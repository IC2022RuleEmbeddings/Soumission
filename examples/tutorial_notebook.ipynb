{
 "cells": [
  {
   "cell_type": "markdown",
   "metadata": {},
   "source": [
    "# Objective\n",
    "\n",
    "- Propose a tutorial on how to use our library to mine differential causal rules on Knowledge Graphs\n",
    "\n",
    "- In this notebook, we show how :\n",
    "    - to train an embedding model on our vitamin dataset\n",
    "    - determine a similarity threshold\n",
    "    - mine similar pairs\n",
    "    - get a treatment effect for the \"sex\" property on the outcome \"willingness to change one's diet to reduce meat consumption\""
   ]
  },
  {
   "cell_type": "markdown",
   "metadata": {},
   "source": [
    "<div class=\"alert alert-success\">\n",
    "    <b>NOTE :</b>\n",
    "    We strongly advice the reader to use a <b>GPU</b> as computing the similarity between instances is computationally high.\n",
    "    <b>CPU</b>'s are not adapted for these operations, and using them would result in a long running time. Moreover, running the code in a python script is faster than in a notebook. This notebook was run locally on a CPU for explainability purposes.\n",
    "</div>"
   ]
  },
  {
   "cell_type": "markdown",
   "metadata": {},
   "source": [
    "# 1 : Imports and Parameters Definition"
   ]
  },
  {
   "cell_type": "markdown",
   "metadata": {},
   "source": [
    "## Libraries Import"
   ]
  },
  {
   "cell_type": "code",
   "execution_count": 1,
   "metadata": {},
   "outputs": [],
   "source": [
    "import pandas as pd\n",
    "import numpy as np\n",
    "import matplotlib.pyplot as plt\n",
    "import seaborn as sns\n",
    "import os\n",
    "\n",
    "import math\n",
    "import random\n",
    "import copy\n",
    "import sys\n",
    "import itertools\n",
    "import time"
   ]
  },
  {
   "cell_type": "code",
   "execution_count": 2,
   "metadata": {},
   "outputs": [
    {
     "name": "stdout",
     "output_type": "stream",
     "text": [
      "AmpliGraph version OK\n",
      "TensorFlow version OK\n"
     ]
    }
   ],
   "source": [
    "import ampligraph\n",
    "import tensorflow as tf\n",
    "\n",
    "if ampligraph.__version__ == '1.4.0':\n",
    "    print(\"AmpliGraph version OK\")\n",
    "if tf.__version__ == '1.15.2':\n",
    "    print(\"TensorFlow version OK\")"
   ]
  },
  {
   "cell_type": "code",
   "execution_count": 3,
   "metadata": {},
   "outputs": [],
   "source": [
    "from ampligraph.datasets import load_from_csv\n",
    "from ampligraph.evaluation import train_test_split_no_unseen\n",
    "from ampligraph.evaluation import mr_score, mrr_score, hits_at_n_score\n",
    "from ampligraph.evaluation import evaluate_performance\n",
    "from ampligraph.latent_features.models import ConvE"
   ]
  },
  {
   "cell_type": "code",
   "execution_count": 4,
   "metadata": {},
   "outputs": [],
   "source": [
    "sys.path.append('../similarity_search')\n",
    "from pairs_mining import *\n",
    "from threshold_estimation import *\n",
    "from distance_threshold_estimation import *\n",
    "sys.path.append('../dcr_discovery')\n",
    "from metrics import *"
   ]
  },
  {
   "cell_type": "markdown",
   "metadata": {},
   "source": [
    "## Data Import"
   ]
  },
  {
   "cell_type": "code",
   "execution_count": 5,
   "metadata": {},
   "outputs": [],
   "source": [
    "directory_path = '../datasets'\n",
    "file_name = 'vitamin_with_type.csv'\n",
    "X = load_from_csv(directory_path,file_name, sep=',')"
   ]
  },
  {
   "cell_type": "code",
   "execution_count": 6,
   "metadata": {},
   "outputs": [
    {
     "name": "stdout",
     "output_type": "stream",
     "text": [
      "The knowledge graph is composed of 85589 triples\n"
     ]
    }
   ],
   "source": [
    "# checking the import\n",
    "print(f\"The knowledge graph is composed of {len(X)} triples\")"
   ]
  },
  {
   "cell_type": "code",
   "execution_count": 7,
   "metadata": {},
   "outputs": [],
   "source": [
    "relations_ = list(np.unique([x[1] for x in X]))"
   ]
  },
  {
   "cell_type": "markdown",
   "metadata": {},
   "source": [
    "## Constant Values"
   ]
  },
  {
   "cell_type": "code",
   "execution_count": 8,
   "metadata": {},
   "outputs": [],
   "source": [
    "PATH_TYPE = '22-rdf-syntax-ns#type'\n",
    "TYPE_TARGET_CLASS = 'Person'\n",
    "\n",
    "PATH_TREATMENT = ['sex']\n",
    "PATH_OUTCOME = ['hasIdealDiet']\n",
    "\n",
    "PATHS_TO_REMOVE_IN_TRAINING = [PATH_TYPE,PATH_TREATMENT[-1],PATH_OUTCOME[-1]]\n",
    "TEST_SET_PROPORTION = 0.1\n",
    "\n",
    "SAMPLING_PARAMETER = 250\n",
    "STAT_PARAM = 1.96\n",
    "SUPPORT_THRESHOLD = 10\n",
    "SIMILARITY_THRESHOLD = 0.75\n",
    "EPOCHS = 150"
   ]
  },
  {
   "cell_type": "markdown",
   "metadata": {},
   "source": [
    "# 2 : Embedding Model - Training sets Definition, Training and Metrics\n",
    "\n",
    "- For this example, we decide to train the ConvE model\n",
    "- However, we recommand the reader to visit the ampligraph library to test other models"
   ]
  },
  {
   "cell_type": "code",
   "execution_count": 9,
   "metadata": {},
   "outputs": [],
   "source": [
    "# defining the training sets\n",
    "X_training = np.array([x for x in X if x[1] not in PATHS_TO_REMOVE_IN_TRAINING])\n",
    "test_size = round(TEST_SET_PROPORTION*len(X_training))\n",
    "X_train, X_test = train_test_split_no_unseen(X_training, test_size=test_size)"
   ]
  },
  {
   "cell_type": "code",
   "execution_count": 10,
   "metadata": {},
   "outputs": [],
   "source": [
    "# defining the model\n",
    "model = ConvE(batches_count=100, \n",
    "              seed=0, \n",
    "              epochs=EPOCHS, \n",
    "              k=150,\n",
    "              eta=5,\n",
    "              optimizer='adam',\n",
    "              optimizer_params={'lr':1e-3},\n",
    "              loss='bce',\n",
    "              regularizer='LP', \n",
    "              regularizer_params={'p':3, 'lambda':1e-5},\n",
    "              verbose=True)\n",
    "positives_filter = X_training"
   ]
  },
  {
   "cell_type": "code",
   "execution_count": 11,
   "metadata": {},
   "outputs": [
    {
     "name": "stderr",
     "output_type": "stream",
     "text": [
      "Average Loss:   1.005610: 100%|██████████| 150/150 [21:48<00:00,  8.72s/epoch]\n"
     ]
    }
   ],
   "source": [
    "# training the model\n",
    "tf.logging.set_verbosity(tf.logging.ERROR)\n",
    "model.fit(X_train, early_stopping = False)"
   ]
  },
  {
   "cell_type": "code",
   "execution_count": 12,
   "metadata": {},
   "outputs": [
    {
     "name": "stdout",
     "output_type": "stream",
     "text": [
      "WARNING - DeprecationWarning: use_default_protocol will be removed in future. Please use corrupt_side argument instead.\n",
      "Mapping set data: test\n",
      "Mapping set data: filter\n"
     ]
    },
    {
     "name": "stderr",
     "output_type": "stream",
     "text": [
      "100%|██████████| 8029/8029 [00:20<00:00, 391.81it/s]\n",
      "100%|██████████| 23/23 [00:05<00:00,  4.41batch/s]\n"
     ]
    }
   ],
   "source": [
    "ranks = evaluate_performance(X_test, \n",
    "                             model=model, \n",
    "                             filter_triples=positives_filter,\n",
    "                             filter_unseen=True,\n",
    "                             use_default_protocol=True,\n",
    "                             verbose=True)"
   ]
  },
  {
   "cell_type": "code",
   "execution_count": 13,
   "metadata": {},
   "outputs": [],
   "source": [
    "model_performances = {}\n",
    "\n",
    "mrr = mrr_score(ranks)\n",
    "model_performances['mrr'] = mrr\n",
    "\n",
    "hits_1 = hits_at_n_score(ranks, n=1)\n",
    "model_performances['hits_1'] = hits_1\n",
    "hits_3 = hits_at_n_score(ranks, n=3)\n",
    "model_performances['hits_3'] = hits_3\n",
    "hits_10 = hits_at_n_score(ranks, n=10)\n",
    "model_performances['hits_10'] = hits_10"
   ]
  },
  {
   "cell_type": "code",
   "execution_count": 14,
   "metadata": {},
   "outputs": [],
   "source": [
    "model_performances = {key:[value] for key,value in model_performances.items()}\n",
    "df_model_performances = pd.DataFrame.from_dict(model_performances)"
   ]
  },
  {
   "cell_type": "code",
   "execution_count": 15,
   "metadata": {},
   "outputs": [
    {
     "data": {
      "text/html": [
       "<div>\n",
       "<style scoped>\n",
       "    .dataframe tbody tr th:only-of-type {\n",
       "        vertical-align: middle;\n",
       "    }\n",
       "\n",
       "    .dataframe tbody tr th {\n",
       "        vertical-align: top;\n",
       "    }\n",
       "\n",
       "    .dataframe thead th {\n",
       "        text-align: right;\n",
       "    }\n",
       "</style>\n",
       "<table border=\"1\" class=\"dataframe\">\n",
       "  <thead>\n",
       "    <tr style=\"text-align: right;\">\n",
       "      <th></th>\n",
       "      <th>mrr</th>\n",
       "      <th>hits_1</th>\n",
       "      <th>hits_3</th>\n",
       "      <th>hits_10</th>\n",
       "    </tr>\n",
       "  </thead>\n",
       "  <tbody>\n",
       "    <tr>\n",
       "      <th>0</th>\n",
       "      <td>0.325938</td>\n",
       "      <td>0.233715</td>\n",
       "      <td>0.392452</td>\n",
       "      <td>0.484245</td>\n",
       "    </tr>\n",
       "  </tbody>\n",
       "</table>\n",
       "</div>"
      ],
      "text/plain": [
       "        mrr    hits_1    hits_3   hits_10\n",
       "0  0.325938  0.233715  0.392452  0.484245"
      ]
     },
     "execution_count": 15,
     "metadata": {},
     "output_type": "execute_result"
    }
   ],
   "source": [
    "df_model_performances"
   ]
  },
  {
   "cell_type": "code",
   "execution_count": 16,
   "metadata": {},
   "outputs": [],
   "source": [
    "if not os.path.exists('results'):\n",
    "    os.mkdir('results')\n",
    "df_model_performances.to_csv('results/model_performances.csv',header=True,index=False)"
   ]
  },
  {
   "cell_type": "markdown",
   "metadata": {},
   "source": [
    "# 3 : Determining the distance threshold for matching \n",
    "\n",
    "- In this part, we sample a set of pairs and for each of them compute its (i) distance and (ii) similarity measure\n",
    "- Then, we model the relation between the 2 measures and obtain a distance threshold based on the given parameter on the similarity"
   ]
  },
  {
   "cell_type": "code",
   "execution_count": 17,
   "metadata": {},
   "outputs": [],
   "source": [
    "list_target_class_instances = [x[0] for x in X if x[1]==PATH_TYPE and x[2]==TYPE_TARGET_CLASS]"
   ]
  },
  {
   "cell_type": "code",
   "execution_count": 18,
   "metadata": {},
   "outputs": [],
   "source": [
    "# defining the end nodes for the similarity search\n",
    "all_types = list(np.unique([x[2] for x in X if x[1] == '22-rdf-syntax-ns#type']))\n",
    "type_end = all_types"
   ]
  },
  {
   "cell_type": "code",
   "execution_count": 19,
   "metadata": {},
   "outputs": [],
   "source": [
    "from parameters import dic_functionality\n",
    "dic_functionality = {key:value for key,value in dic_functionality.items() if key not in [PATH_OUTCOME[0],PATH_TREATMENT[0]]}"
   ]
  },
  {
   "cell_type": "raw",
   "metadata": {},
   "source": [
    "sample_pairs = draw_set_of_pairs(list_target_class_instances)\n",
    "measures = get_measures_for_pairs(sample_pairs[:SAMPLING_PARAMETER],model,X,dic_functionality,type_end,PATH_TYPE)"
   ]
  },
  {
   "cell_type": "code",
   "execution_count": 21,
   "metadata": {},
   "outputs": [],
   "source": [
    "subset_points = get_subset_points_for_threshold(measures)"
   ]
  },
  {
   "cell_type": "code",
   "execution_count": 22,
   "metadata": {},
   "outputs": [
    {
     "name": "stdout",
     "output_type": "stream",
     "text": [
      "199\n"
     ]
    }
   ],
   "source": [
    "print(len(subset_points))"
   ]
  },
  {
   "cell_type": "code",
   "execution_count": 23,
   "metadata": {},
   "outputs": [
    {
     "data": {
      "image/png": "[encoded data removed]",
      "text/plain": [
       "<Figure size 560x400 with 1 Axes>"
      ]
     },
     "metadata": {
      "needs_background": "light"
     },
     "output_type": "display_data"
    }
   ],
   "source": [
    "model_name = 'ConvE'\n",
    "plot_distribution_measures(subset_points,model_name)"
   ]
  },
  {
   "cell_type": "code",
   "execution_count": 24,
   "metadata": {},
   "outputs": [],
   "source": [
    "model_degree = 1\n",
    "estimation_model, r_squared = fit_model_on_measures(subset_points,model_degree)"
   ]
  },
  {
   "cell_type": "code",
   "execution_count": 25,
   "metadata": {},
   "outputs": [
    {
     "data": {
      "image/png": "[encoded data removed]",
      "text/plain": [
       "<Figure size 560x400 with 1 Axes>"
      ]
     },
     "metadata": {
      "needs_background": "light"
     },
     "output_type": "display_data"
    }
   ],
   "source": [
    "fitted_model = estimation_model\n",
    "plot_distribution_and_model(measures,fitted_model)"
   ]
  },
  {
   "cell_type": "code",
   "execution_count": 26,
   "metadata": {},
   "outputs": [],
   "source": [
    "distance_threshold = get_distance_threshold(fitted_model,SIMILARITY_THRESHOLD)"
   ]
  },
  {
   "cell_type": "code",
   "execution_count": 27,
   "metadata": {},
   "outputs": [
    {
     "data": {
      "text/plain": [
       "1.0914111675101243"
      ]
     },
     "execution_count": 27,
     "metadata": {},
     "output_type": "execute_result"
    }
   ],
   "source": [
    "distance_threshold"
   ]
  },
  {
   "cell_type": "markdown",
   "metadata": {},
   "source": [
    "<div class=\"alert alert-success\">\n",
    "    <b>NOTE :</b>\n",
    "    This notebook only shows how our functions work. More points should be used to estimate distance_threshold.\n",
    "    As the points have a normal distribution on ths distance, the 'get_subset_points_for_threshold' function should be used to have an equivalent number of points per distance insterval.\n",
    "</div>"
   ]
  },
  {
   "cell_type": "markdown",
   "metadata": {},
   "source": [
    "# 4 : Building the pairs of similar instances\n",
    "\n",
    "- We mined the distance threshold, we can now create the pairs\n",
    "- Showing the different strategies to obtain the pairs"
   ]
  },
  {
   "cell_type": "code",
   "execution_count": 28,
   "metadata": {},
   "outputs": [
    {
     "name": "stdout",
     "output_type": "stream",
     "text": [
      "There are 1714 instances of the target class.\n"
     ]
    }
   ],
   "source": [
    "print(f\"There are {len(list_target_class_instances)} instances of the target class.\")"
   ]
  },
  {
   "cell_type": "markdown",
   "metadata": {},
   "source": [
    "## 4.1 : Building the pairs of similar instances : No condition on the treatment"
   ]
  },
  {
   "cell_type": "code",
   "execution_count": 29,
   "metadata": {},
   "outputs": [],
   "source": [
    "# building the similarity matrix\n",
    "mode = 'mixed'\n",
    "df_similarity,df_to_numpy = get_matrix_similarity_pairs(model,list_target_class_instances,mode=mode)"
   ]
  },
  {
   "cell_type": "markdown",
   "metadata": {},
   "source": [
    "### 4.1.1 : Using the distance threshold"
   ]
  },
  {
   "cell_type": "code",
   "execution_count": 30,
   "metadata": {},
   "outputs": [],
   "source": [
    "strategy = 'greedy'\n",
    "pairs_similar_instances = get_pairs_from_matrix_and_threshold(df_similarity,distance_threshold,strategy=strategy)"
   ]
  },
  {
   "cell_type": "code",
   "execution_count": 31,
   "metadata": {},
   "outputs": [
    {
     "name": "stdout",
     "output_type": "stream",
     "text": [
      "282 pairs have been created with the greedy strategy.\n"
     ]
    }
   ],
   "source": [
    "print(f\"{len(pairs_similar_instances)} pairs have been created with the greedy strategy.\")"
   ]
  },
  {
   "cell_type": "markdown",
   "metadata": {},
   "source": [
    "### 4.1.2 : Using the proportion of matched instances"
   ]
  },
  {
   "cell_type": "code",
   "execution_count": 32,
   "metadata": {},
   "outputs": [],
   "source": [
    "proportion = 0.0001\n",
    "pairs_closer_instances = get_pairs_from_matrix_and_proportion(df_similarity,proportion=proportion)"
   ]
  },
  {
   "cell_type": "code",
   "execution_count": 33,
   "metadata": {},
   "outputs": [
    {
     "name": "stdout",
     "output_type": "stream",
     "text": [
      "147 pairs have been created.\n"
     ]
    }
   ],
   "source": [
    "print(f\"{len(pairs_closer_instances)} pairs have been created.\")"
   ]
  },
  {
   "cell_type": "markdown",
   "metadata": {},
   "source": [
    "## 4.2 : Building the pairs of similar instances : Different treatment values"
   ]
  },
  {
   "cell_type": "code",
   "execution_count": 34,
   "metadata": {},
   "outputs": [],
   "source": [
    "mode = 'treatment_sort'"
   ]
  },
  {
   "cell_type": "code",
   "execution_count": 35,
   "metadata": {},
   "outputs": [],
   "source": [
    "treatment_values = list(np.unique([x[2] for x in X if x[1]==PATH_TREATMENT[0]]))\n",
    "t0 = treatment_values[0]\n",
    "t1 = treatment_values[1]"
   ]
  },
  {
   "cell_type": "code",
   "execution_count": 36,
   "metadata": {},
   "outputs": [],
   "source": [
    "instances_t0 = list(np.unique([x[0] for x in X if x[2]==t0]))\n",
    "instances_t1 = list(np.unique([x[0] for x in X if x[2]==t1]))"
   ]
  },
  {
   "cell_type": "code",
   "execution_count": 37,
   "metadata": {},
   "outputs": [],
   "source": [
    "df_similarity,df_to_numpy = get_matrix_similarity_pairs(model,list_target_class_instances,mode=mode,instances_t0=instances_t0,instances_t1=instances_t1)"
   ]
  },
  {
   "cell_type": "markdown",
   "metadata": {},
   "source": [
    "### 4.2.1 : Using the distance threshold"
   ]
  },
  {
   "cell_type": "code",
   "execution_count": 38,
   "metadata": {},
   "outputs": [],
   "source": [
    "distance_thr = distance_threshold + 0.2"
   ]
  },
  {
   "cell_type": "code",
   "execution_count": 39,
   "metadata": {},
   "outputs": [],
   "source": [
    "strategy = 'greedy'\n",
    "pairs_similar_instances = get_pairs_from_matrix_and_threshold(df_similarity,distance_thr,strategy=strategy,mode=mode)"
   ]
  },
  {
   "cell_type": "code",
   "execution_count": 40,
   "metadata": {},
   "outputs": [
    {
     "data": {
      "text/plain": [
       "126"
      ]
     },
     "execution_count": 40,
     "metadata": {},
     "output_type": "execute_result"
    }
   ],
   "source": [
    "len(pairs_similar_instances)"
   ]
  },
  {
   "cell_type": "markdown",
   "metadata": {},
   "source": [
    "### 4.2.2 : Using the proportion of matched instances"
   ]
  },
  {
   "cell_type": "code",
   "execution_count": 41,
   "metadata": {},
   "outputs": [],
   "source": [
    "proportion = 0.001\n",
    "mode = 'treatment_sort'\n",
    "pairs_closer_instances = get_pairs_from_matrix_and_proportion(df_similarity,proportion=proportion,mode=mode)"
   ]
  },
  {
   "cell_type": "code",
   "execution_count": 42,
   "metadata": {},
   "outputs": [
    {
     "name": "stdout",
     "output_type": "stream",
     "text": [
      "446 pairs have been created.\n"
     ]
    }
   ],
   "source": [
    "print(f\"{len(pairs_closer_instances)} pairs have been created.\")"
   ]
  },
  {
   "cell_type": "markdown",
   "metadata": {},
   "source": [
    "# 5 : Computing the treatment effect\n",
    "\n",
    "- Given the set of similar pairs, we aim to compute the treatment effect"
   ]
  },
  {
   "cell_type": "code",
   "execution_count": 43,
   "metadata": {},
   "outputs": [],
   "source": [
    "path_flesh = PATH_OUTCOME + ['fleshIntensity']"
   ]
  },
  {
   "cell_type": "code",
   "execution_count": 45,
   "metadata": {},
   "outputs": [],
   "source": [
    "causal_metric, causal_metric_IC = compute_metric(pairs_closer_instances,X,PATH_TREATMENT,PATH_OUTCOME,t0,t1,stat_param=1.96)"
   ]
  },
  {
   "cell_type": "code",
   "execution_count": 46,
   "metadata": {},
   "outputs": [
    {
     "name": "stdout",
     "output_type": "stream",
     "text": [
      "Treatment Studied :  ['sex']\n",
      "Value t0 :  Man\n",
      "Value t1 :  Woman\n",
      "On the outcome :  ['hasIdealDiet']\n",
      "Causal Metric :  1.075\n",
      "Confidence Interval:  [0.793, 1.458]\n"
     ]
    }
   ],
   "source": [
    "print('Treatment Studied : ',PATH_TREATMENT)\n",
    "print('Value t0 : ',t0)\n",
    "print('Value t1 : ',t1)\n",
    "print('On the outcome : ',PATH_OUTCOME)\n",
    "print('Causal Metric : ',causal_metric)\n",
    "print('Confidence Interval: ',causal_metric_IC)"
   ]
  },
  {
   "cell_type": "code",
   "execution_count": null,
   "metadata": {},
   "outputs": [],
   "source": []
  }
 ],
 "metadata": {
  "kernelspec": {
   "display_name": "Python 3",
   "language": "python",
   "name": "python3"
  },
  "language_info": {
   "codemirror_mode": {
    "name": "ipython",
    "version": 3
   },
   "file_extension": ".py",
   "mimetype": "text/x-python",
   "name": "python",
   "nbconvert_exporter": "python",
   "pygments_lexer": "ipython3",
   "version": "3.6.9"
  }
 },
 "nbformat": 4,
 "nbformat_minor": 4
}
